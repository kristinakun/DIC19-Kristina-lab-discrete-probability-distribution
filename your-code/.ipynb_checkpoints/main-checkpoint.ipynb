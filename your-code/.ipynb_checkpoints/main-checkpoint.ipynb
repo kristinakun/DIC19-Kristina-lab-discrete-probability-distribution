{
 "cells": [
  {
   "cell_type": "markdown",
   "metadata": {
    "toc": true
   },
   "source": [
    "<h1>Table of Contents<span class=\"tocSkip\"></span></h1>\n",
    "<div class=\"toc\"><ul class=\"toc-item\"><li><span><a href=\"#Before-your-start:\" data-toc-modified-id=\"Before-your-start:-1\"><span class=\"toc-item-num\">1&nbsp;&nbsp;</span>Before your start:</a></span><ul class=\"toc-item\"><li><span><a href=\"#Bernoulli's-Distribution\" data-toc-modified-id=\"Bernoulli's-Distribution-1.1\"><span class=\"toc-item-num\">1.1&nbsp;&nbsp;</span>Bernoulli's Distribution</a></span></li><li><span><a href=\"#Binomial-Distribution\" data-toc-modified-id=\"Binomial-Distribution-1.2\"><span class=\"toc-item-num\">1.2&nbsp;&nbsp;</span>Binomial Distribution</a></span></li><li><span><a href=\"#Poisson-Distribution\" data-toc-modified-id=\"Poisson-Distribution-1.3\"><span class=\"toc-item-num\">1.3&nbsp;&nbsp;</span>Poisson Distribution</a></span></li></ul></li></ul></div>"
   ]
  },
  {
   "cell_type": "markdown",
   "metadata": {},
   "source": [
    "# Before your start:\n",
    "\n",
    "    Read the README.md file\n",
    "    Comment as much as you can and use the resources (README.md file)\n",
    "    Happy learning!\n",
    "\n",
    "*Notes:* \n",
    "\n",
    "- Solve the questions with python.\n",
    "\n",
    "- Round the final answer to three decimal places."
   ]
  },
  {
   "cell_type": "code",
   "execution_count": 1,
   "metadata": {
    "ExecuteTime": {
     "end_time": "2020-03-14T11:57:39.566704Z",
     "start_time": "2020-03-14T11:57:38.489001Z"
    }
   },
   "outputs": [],
   "source": [
    "import numpy as np\n",
    "from scipy import stats\n",
    "import matplotlib.pyplot as plt\n",
    "import pandas as pd\n",
    "from scipy.stats import binom"
   ]
  },
  {
   "cell_type": "markdown",
   "metadata": {},
   "source": [
    "## Bernoulli's Distribution\n",
    "\n",
    "In a basket containing 100 fruits, there are 60 apples and 40 oranges. \n",
    "\n",
    "A fruit is picked randomly from the basket. \n",
    "\n",
    "1. **What is the probability that the fruit is apple?**\n",
    "1. **What is the probability that it is an orange?**"
   ]
  },
  {
   "cell_type": "code",
   "execution_count": 2,
   "metadata": {
    "ExecuteTime": {
     "end_time": "2020-03-14T11:57:39.573455Z",
     "start_time": "2020-03-14T11:57:39.567471Z"
    }
   },
   "outputs": [
    {
     "data": {
      "text/plain": [
       "'\\nCalculate:\\np = probability that the fruit is an apple \\nq = probability that the fruit is an orange\\n'"
      ]
     },
     "execution_count": 2,
     "metadata": {},
     "output_type": "execute_result"
    }
   ],
   "source": [
    "\"\"\"\n",
    "Calculate:\n",
    "p = probability that the fruit is an apple \n",
    "q = probability that the fruit is an orange\n",
    "\"\"\"\n",
    "\n",
    "# your code here"
   ]
  },
  {
   "cell_type": "code",
   "execution_count": 3,
   "metadata": {
    "ExecuteTime": {
     "end_time": "2020-03-14T11:57:39.584447Z",
     "start_time": "2020-03-14T11:57:39.574453Z"
    }
   },
   "outputs": [
    {
     "name": "stdout",
     "output_type": "stream",
     "text": [
      "0.6\n"
     ]
    }
   ],
   "source": [
    "#What is the probability that the fruit is apple?\n",
    "\n",
    "# Sample Space\n",
    "basket = 100\n",
    "\n",
    "# Outcomes\n",
    "apple = 60\n",
    "\n",
    "# Divide possible outcomes by the sample set\n",
    "apple_probability = apple / basket\n",
    "\n",
    "# Print probability rounded to two decimal places\n",
    "print(round(apple_probability, 3))"
   ]
  },
  {
   "cell_type": "code",
   "execution_count": 4,
   "metadata": {
    "ExecuteTime": {
     "end_time": "2020-03-14T11:57:39.591406Z",
     "start_time": "2020-03-14T11:57:39.586420Z"
    }
   },
   "outputs": [
    {
     "name": "stdout",
     "output_type": "stream",
     "text": [
      "0.4\n"
     ]
    }
   ],
   "source": [
    "#What is the probability that the fruit is orange?\n",
    "\n",
    "# Sample Space\n",
    "basket = 100\n",
    "\n",
    "# Outcomes\n",
    "orange = 40\n",
    "\n",
    "# Divide possible outcomes by the sample set\n",
    "orange_probability = orange / basket\n",
    "\n",
    "# Print probability rounded to two decimal places\n",
    "print(round(orange_probability, 3))"
   ]
  },
  {
   "cell_type": "code",
   "execution_count": 5,
   "metadata": {
    "ExecuteTime": {
     "end_time": "2020-03-14T11:57:39.599390Z",
     "start_time": "2020-03-14T11:57:39.592405Z"
    }
   },
   "outputs": [
    {
     "name": "stdout",
     "output_type": "stream",
     "text": [
      "40.0%\n",
      "60.0%\n"
     ]
    }
   ],
   "source": [
    "# Orange and Apple Probability Percent\n",
    "orange_probability_percent = orange_probability * 100\n",
    "apple_probability_percent = apple_probability * 100\n",
    "\n",
    "\n",
    "# Print probability percent rounded to one decimal place\n",
    "print(str(round(orange_probability_percent, 0)) + '%')\n",
    "print(str(round(apple_probability_percent, 0)) + '%')"
   ]
  },
  {
   "cell_type": "markdown",
   "metadata": {},
   "source": [
    "Now we take a random sample of 20 fruits from the basket. After each fruit is taken, a new fruit of the same type is replaced in the basket. Therefore, every time we are taking 1 fruit from 100 fruits. \n",
    "\n",
    "1. **What is the probability that the first 5 fruits are all apples?**\n",
    "\n",
    "1. **What is the probability that the first 5 fruits are all apples and the next 15 fruits are all oranges?**\n",
    "\n",
    "You can include the `p` and `q` probabilities you previous calculated in your solution."
   ]
  },
  {
   "cell_type": "code",
   "execution_count": 6,
   "metadata": {
    "ExecuteTime": {
     "end_time": "2020-03-14T11:57:39.606366Z",
     "start_time": "2020-03-14T11:57:39.601380Z"
    }
   },
   "outputs": [
    {
     "data": {
      "text/plain": [
       "0.078"
      ]
     },
     "execution_count": 6,
     "metadata": {},
     "output_type": "execute_result"
    }
   ],
   "source": [
    "#The formula for finding the combined probability of events obtained with replacement, \n",
    "#we simply find the product of the probabilities of the event directly:\n",
    "\n",
    "#P (A ∩ B) = P (A) P (B)\n",
    "\n",
    "\n",
    "#probability that first 5 fruits are apples with replacement?\n",
    "\n",
    "apples5 = apple_probability**5\n",
    "round(apples5, 3)"
   ]
  },
  {
   "cell_type": "code",
   "execution_count": 7,
   "metadata": {
    "ExecuteTime": {
     "end_time": "2020-03-14T11:57:39.611363Z",
     "start_time": "2020-03-14T11:57:39.607363Z"
    }
   },
   "outputs": [
    {
     "data": {
      "text/plain": [
       "8.349416423424006e-08"
      ]
     },
     "execution_count": 7,
     "metadata": {},
     "output_type": "execute_result"
    }
   ],
   "source": [
    "#What is the probability that the first 5 fruits are all apples and the next 15 fruits are all oranges with replacement?\n",
    "\n",
    "organges15 = orange_probability**15\n",
    "organges15\n",
    "\n",
    "a5_o15 = apples5*organges15\n",
    "a5_o15"
   ]
  },
  {
   "cell_type": "markdown",
   "metadata": {},
   "source": [
    "## Binomial Distribution\n",
    "\n",
    "Similar to the above problem, this time again we randomly sample 20 fruits.\n",
    "\n",
    "**What is the probability that this time the sample contains 5 apples and 15 oranges?**\n",
    "\n",
    "Please note that this time the order of the fruits being picked does not matter."
   ]
  },
  {
   "cell_type": "code",
   "execution_count": 8,
   "metadata": {
    "ExecuteTime": {
     "end_time": "2020-03-14T11:57:39.618335Z",
     "start_time": "2020-03-14T11:57:39.613347Z"
    }
   },
   "outputs": [
    {
     "data": {
      "text/plain": [
       "0.001"
      ]
     },
     "execution_count": 8,
     "metadata": {},
     "output_type": "execute_result"
    }
   ],
   "source": [
    "# your code here\n",
    "\n",
    "round(binom.pmf(5, 20, 0.6), 3)\n",
    "\n",
    "\n",
    "#5: here could have 5 or 15 because the order doesn't matter, so could be apple or orange\n",
    "#20: total sample, take 20 fruits\n",
    "#0.6: pple probability"
   ]
  },
  {
   "cell_type": "markdown",
   "metadata": {},
   "source": [
    "In the lesson we also discussed CDF (cumulative distribution function). In the context of the above problem, **what is the probability that less than 5 fruits picked are apples?**\n",
    "\n",
    "Write the formula and calculate the probability below."
   ]
  },
  {
   "cell_type": "code",
   "execution_count": 9,
   "metadata": {
    "ExecuteTime": {
     "end_time": "2020-03-14T11:57:39.627312Z",
     "start_time": "2020-03-14T11:57:39.620329Z"
    }
   },
   "outputs": [
    {
     "data": {
      "text/plain": [
       "0.002"
      ]
     },
     "execution_count": 9,
     "metadata": {},
     "output_type": "execute_result"
    }
   ],
   "source": [
    "# your code here\n",
    "\n",
    "round(binom.cdf(5, 20, 0.6), 3)\n",
    "#or could be written like that: stats.binom(20,0.6).cdf(5)"
   ]
  },
  {
   "cell_type": "markdown",
   "metadata": {},
   "source": [
    "**Plot the PDF (probability distributiom function) for the above binomial distribution.**\n",
    "\n",
    "*Hint: The range of x in a binomial distribution is from `0` to `n`.*"
   ]
  },
  {
   "cell_type": "code",
   "execution_count": 10,
   "metadata": {
    "ExecuteTime": {
     "end_time": "2020-03-14T11:57:39.765940Z",
     "start_time": "2020-03-14T11:57:39.629306Z"
    }
   },
   "outputs": [
    {
     "data": {
      "image/png": "[encoded data removed]",
      "text/plain": [
       "<Figure size 432x288 with 1 Axes>"
      ]
     },
     "metadata": {
      "needs_background": "light"
     },
     "output_type": "display_data"
    }
   ],
   "source": [
    "# your code here\n",
    "# Please label the axes and give a title to the plot \n",
    "\n",
    "# Graficando Binomial    \n",
    "N, p = 20, 0.6 # parametros de forma: 20 fruits and 0.6 prob of apple\n",
    "binomial = binom(N, p) # Distribución\n",
    "x = np.arange(binomial.ppf(0.01), binomial.ppf(0.99))\n",
    "fmp = binomial.pmf(x) # Función de Masa de Probabilidad\n",
    "plt.plot(x, fmp, '--')\n",
    "plt.vlines(x, 0, fmp, colors='b', lw=5, alpha=0.5)\n",
    "plt.title('Distribución Binomial')\n",
    "plt.ylabel('probabilidad')\n",
    "plt.xlabel('valores')\n",
    "plt.show()"
   ]
  },
  {
   "cell_type": "markdown",
   "metadata": {},
   "source": [
    "## Poisson Distribution\n",
    "\n",
    "In this challenge you are required to use the Math library in python to solve the problems.\n",
    "\n",
    "In the UEFA champions league tournament, the average number of goals scored in a match is 2.3. \n",
    "\n",
    "**What is the probability that the number of goals scored in a match is 5?**\n",
    "\n",
    "*Hint: Use the exp() in the math library*\n",
    "\n",
    "And to calculate the factorial, you can use the following code:\n",
    "\n",
    "```python\n",
    "import math\n",
    "math.factorial(n) # n is the number you want to find the factorial of\n",
    "```"
   ]
  },
  {
   "cell_type": "code",
   "execution_count": 11,
   "metadata": {
    "ExecuteTime": {
     "end_time": "2020-03-14T11:57:39.772922Z",
     "start_time": "2020-03-14T11:57:39.767982Z"
    }
   },
   "outputs": [
    {
     "data": {
      "text/plain": [
       "0.054"
      ]
     },
     "execution_count": 11,
     "metadata": {},
     "output_type": "execute_result"
    }
   ],
   "source": [
    "# your code here \n",
    "\n",
    "import math\n",
    "\n",
    "r = 5 #the probability that the number of goals scored in a match is 5\n",
    "moo = 2.3 #the average number of goals scored in a match\n",
    "\n",
    "round((moo**r) * math.exp(-moo) / math.factorial(r), 3)"
   ]
  },
  {
   "cell_type": "markdown",
   "metadata": {},
   "source": [
    "**Draw a poisson probability distribution plot for the number of goals to be between 0 to 10.**"
   ]
  },
  {
   "cell_type": "code",
   "execution_count": 12,
   "metadata": {
    "ExecuteTime": {
     "end_time": "2020-03-14T11:57:39.905952Z",
     "start_time": "2020-03-14T11:57:39.773928Z"
    }
   },
   "outputs": [
    {
     "data": {
      "image/png": "[encoded data removed]",
      "text/plain": [
       "<Figure size 432x288 with 1 Axes>"
      ]
     },
     "metadata": {
      "needs_background": "light"
     },
     "output_type": "display_data"
    }
   ],
   "source": [
    "# your code here\n",
    "# Please label the axes and give a title to the plot \n",
    "\n",
    "# Graficando Poisson\n",
    "mu =  2.3 # parametro de forma \n",
    "poisson = stats.poisson(mu) # Distribución\n",
    "x = np.arange(poisson.ppf(0.01),\n",
    "              poisson.ppf(0.99))\n",
    "fmp = poisson.pmf(x) # Función de Masa de Probabilidad\n",
    "plt.plot(x, fmp, '--')\n",
    "plt.vlines(x, 0, fmp, colors='b', lw=5, alpha=0.5)\n",
    "plt.title('Distribución Poisson')\n",
    "plt.ylabel('probabilidad')\n",
    "plt.xlabel('valores')\n",
    "plt.show()"
   ]
  }
 ],
 "metadata": {
  "kernelspec": {
   "display_name": "Python 3",
   "language": "python",
   "name": "python3"
  },
  "language_info": {
   "codemirror_mode": {
    "name": "ipython",
    "version": 3
   },
   "file_extension": ".py",
   "mimetype": "text/x-python",
   "name": "python",
   "nbconvert_exporter": "python",
   "pygments_lexer": "ipython3",
   "version": "3.7.4"
  },
  "toc": {
   "base_numbering": 1,
   "nav_menu": {},
   "number_sections": true,
   "sideBar": true,
   "skip_h1_title": false,
   "title_cell": "Table of Contents",
   "title_sidebar": "Contents",
   "toc_cell": true,
   "toc_position": {},
   "toc_section_display": true,
   "toc_window_display": false
  }
 },
 "nbformat": 4,
 "nbformat_minor": 2
}
